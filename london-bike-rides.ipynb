{
 "cells": [
  {
   "cell_type": "code",
   "execution_count": 2,
   "outputs": [
    {
     "name": "stdout",
     "output_type": "stream",
     "text": [
      "Collecting kaggle\n",
      "  Downloading kaggle-1.5.16.tar.gz (83 kB)\n",
      "                                              0.0/83.6 kB ? eta -:--:--\n",
      "     ---------------------------------------  81.9/83.6 kB 2.3 MB/s eta 0:00:01\n",
      "     ---------------------------------------  81.9/83.6 kB 2.3 MB/s eta 0:00:01\n",
      "     -------------------------------------- 83.6/83.6 kB 672.9 kB/s eta 0:00:00\n",
      "  Preparing metadata (setup.py): started\n",
      "  Preparing metadata (setup.py): finished with status 'done'\n",
      "Requirement already satisfied: six>=1.10 in d:\\soft\\conda\\lib\\site-packages (from kaggle) (1.16.0)\n",
      "Requirement already satisfied: certifi in d:\\soft\\conda\\lib\\site-packages (from kaggle) (2023.7.22)\n",
      "Requirement already satisfied: python-dateutil in d:\\soft\\conda\\lib\\site-packages (from kaggle) (2.8.2)\n",
      "Requirement already satisfied: requests in d:\\soft\\conda\\lib\\site-packages (from kaggle) (2.31.0)\n",
      "Requirement already satisfied: tqdm in d:\\soft\\conda\\lib\\site-packages (from kaggle) (4.65.0)\n",
      "Requirement already satisfied: python-slugify in d:\\soft\\conda\\lib\\site-packages (from kaggle) (5.0.2)\n",
      "Requirement already satisfied: urllib3 in d:\\soft\\conda\\lib\\site-packages (from kaggle) (1.26.16)\n",
      "Requirement already satisfied: bleach in d:\\soft\\conda\\lib\\site-packages (from kaggle) (4.1.0)\n",
      "Requirement already satisfied: packaging in d:\\soft\\conda\\lib\\site-packages (from bleach->kaggle) (23.1)\n",
      "Requirement already satisfied: webencodings in d:\\soft\\conda\\lib\\site-packages (from bleach->kaggle) (0.5.1)\n",
      "Requirement already satisfied: text-unidecode>=1.3 in d:\\soft\\conda\\lib\\site-packages (from python-slugify->kaggle) (1.3)\n",
      "Requirement already satisfied: charset-normalizer<4,>=2 in d:\\soft\\conda\\lib\\site-packages (from requests->kaggle) (2.0.4)\n",
      "Requirement already satisfied: idna<4,>=2.5 in d:\\soft\\conda\\lib\\site-packages (from requests->kaggle) (3.4)\n",
      "Requirement already satisfied: colorama in d:\\soft\\conda\\lib\\site-packages (from tqdm->kaggle) (0.4.6)\n",
      "Building wheels for collected packages: kaggle\n",
      "  Building wheel for kaggle (setup.py): started\n",
      "  Building wheel for kaggle (setup.py): finished with status 'done'\n",
      "  Created wheel for kaggle: filename=kaggle-1.5.16-py3-none-any.whl size=110697 sha256=dd9293e39fe70f1b2fb81893d93a3bffc54938fba0336ec60c7dce430ee65b88\n",
      "  Stored in directory: c:\\users\\diana\\appdata\\local\\pip\\cache\\wheels\\6a\\2b\\d0\\457dd27de499e9423caf738e743c4a3f82886ee6b19f89d5b7\n",
      "Successfully built kaggle\n",
      "Installing collected packages: kaggle\n",
      "Successfully installed kaggle-1.5.16\n"
     ]
    }
   ],
   "source": [
    "# !pip install kaggle"
   ],
   "metadata": {
    "collapsed": false,
    "ExecuteTime": {
     "end_time": "2023-11-13T19:10:38.621654Z",
     "start_time": "2023-11-13T19:10:15.000447100Z"
    }
   },
   "id": "90f3dccebbfdc5e0"
  },
  {
   "cell_type": "code",
   "execution_count": 9,
   "id": "initial_id",
   "metadata": {
    "collapsed": true,
    "ExecuteTime": {
     "end_time": "2023-11-13T20:12:53.089951900Z",
     "start_time": "2023-11-13T20:12:53.076439400Z"
    }
   },
   "outputs": [],
   "source": [
    "import pandas as pd\n",
    "import zipfile\n",
    "import kaggle"
   ]
  },
  {
   "cell_type": "code",
   "execution_count": 7,
   "outputs": [
    {
     "name": "stdout",
     "output_type": "stream",
     "text": [
      "Downloading london-bike-sharing-dataset.zip to D:\\Study\\London-bike-rides-analytics-project\n"
     ]
    },
    {
     "name": "stderr",
     "output_type": "stream",
     "text": [
      "\n",
      "  0%|          | 0.00/165k [00:00<?, ?B/s]\n",
      "100%|██████████| 165k/165k [00:00<00:00, 509kB/s]\n",
      "100%|██████████| 165k/165k [00:00<00:00, 506kB/s]\n"
     ]
    }
   ],
   "source": [
    "!kaggle datasets download -d hmavrodiev/london-bike-sharing-dataset"
   ],
   "metadata": {
    "collapsed": false,
    "ExecuteTime": {
     "end_time": "2023-11-13T19:57:49.736345Z",
     "start_time": "2023-11-13T19:57:47.418939500Z"
    }
   },
   "id": "8382ac285eb43f3e"
  },
  {
   "cell_type": "code",
   "execution_count": 8,
   "outputs": [],
   "source": [
    "# extract the data file from the zip\n",
    "zipfile_name = 'london-bike-sharing-dataset.zip'\n",
    "with zipfile.ZipFile(zipfile_name, 'r') as file:\n",
    "    file.extractall()"
   ],
   "metadata": {
    "collapsed": false,
    "ExecuteTime": {
     "end_time": "2023-11-13T20:12:23.707561700Z",
     "start_time": "2023-11-13T20:12:23.694503700Z"
    }
   },
   "id": "bc5858885e7b41ba"
  },
  {
   "cell_type": "code",
   "execution_count": 35,
   "outputs": [
    {
     "data": {
      "text/plain": "             timestamp  cnt   t1   t2    hum  wind_speed  weather_code  \\\n0  2015-01-04 00:00:00  182  3.0  2.0   93.0         6.0           3.0   \n1  2015-01-04 01:00:00  138  3.0  2.5   93.0         5.0           1.0   \n2  2015-01-04 02:00:00  134  2.5  2.5   96.5         0.0           1.0   \n3  2015-01-04 03:00:00   72  2.0  2.0  100.0         0.0           1.0   \n4  2015-01-04 04:00:00   47  2.0  0.0   93.0         6.5           1.0   \n\n   is_holiday  is_weekend  season  \n0         0.0         1.0     3.0  \n1         0.0         1.0     3.0  \n2         0.0         1.0     3.0  \n3         0.0         1.0     3.0  \n4         0.0         1.0     3.0  ",
      "text/html": "<div>\n<style scoped>\n    .dataframe tbody tr th:only-of-type {\n        vertical-align: middle;\n    }\n\n    .dataframe tbody tr th {\n        vertical-align: top;\n    }\n\n    .dataframe thead th {\n        text-align: right;\n    }\n</style>\n<table border=\"1\" class=\"dataframe\">\n  <thead>\n    <tr style=\"text-align: right;\">\n      <th></th>\n      <th>timestamp</th>\n      <th>cnt</th>\n      <th>t1</th>\n      <th>t2</th>\n      <th>hum</th>\n      <th>wind_speed</th>\n      <th>weather_code</th>\n      <th>is_holiday</th>\n      <th>is_weekend</th>\n      <th>season</th>\n    </tr>\n  </thead>\n  <tbody>\n    <tr>\n      <th>0</th>\n      <td>2015-01-04 00:00:00</td>\n      <td>182</td>\n      <td>3.0</td>\n      <td>2.0</td>\n      <td>93.0</td>\n      <td>6.0</td>\n      <td>3.0</td>\n      <td>0.0</td>\n      <td>1.0</td>\n      <td>3.0</td>\n    </tr>\n    <tr>\n      <th>1</th>\n      <td>2015-01-04 01:00:00</td>\n      <td>138</td>\n      <td>3.0</td>\n      <td>2.5</td>\n      <td>93.0</td>\n      <td>5.0</td>\n      <td>1.0</td>\n      <td>0.0</td>\n      <td>1.0</td>\n      <td>3.0</td>\n    </tr>\n    <tr>\n      <th>2</th>\n      <td>2015-01-04 02:00:00</td>\n      <td>134</td>\n      <td>2.5</td>\n      <td>2.5</td>\n      <td>96.5</td>\n      <td>0.0</td>\n      <td>1.0</td>\n      <td>0.0</td>\n      <td>1.0</td>\n      <td>3.0</td>\n    </tr>\n    <tr>\n      <th>3</th>\n      <td>2015-01-04 03:00:00</td>\n      <td>72</td>\n      <td>2.0</td>\n      <td>2.0</td>\n      <td>100.0</td>\n      <td>0.0</td>\n      <td>1.0</td>\n      <td>0.0</td>\n      <td>1.0</td>\n      <td>3.0</td>\n    </tr>\n    <tr>\n      <th>4</th>\n      <td>2015-01-04 04:00:00</td>\n      <td>47</td>\n      <td>2.0</td>\n      <td>0.0</td>\n      <td>93.0</td>\n      <td>6.5</td>\n      <td>1.0</td>\n      <td>0.0</td>\n      <td>1.0</td>\n      <td>3.0</td>\n    </tr>\n  </tbody>\n</table>\n</div>"
     },
     "execution_count": 35,
     "metadata": {},
     "output_type": "execute_result"
    }
   ],
   "source": [
    "df = pd.read_csv('london_merged.csv')\n",
    "df.head()"
   ],
   "metadata": {
    "collapsed": false,
    "ExecuteTime": {
     "end_time": "2023-11-13T20:49:47.537159300Z",
     "start_time": "2023-11-13T20:49:47.476287500Z"
    }
   },
   "id": "2ac56b4eb6a54bb"
  },
  {
   "cell_type": "code",
   "execution_count": 36,
   "outputs": [
    {
     "name": "stdout",
     "output_type": "stream",
     "text": [
      "<class 'pandas.core.frame.DataFrame'>\n",
      "RangeIndex: 17414 entries, 0 to 17413\n",
      "Data columns (total 10 columns):\n",
      " #   Column        Non-Null Count  Dtype  \n",
      "---  ------        --------------  -----  \n",
      " 0   timestamp     17414 non-null  object \n",
      " 1   cnt           17414 non-null  int64  \n",
      " 2   t1            17414 non-null  float64\n",
      " 3   t2            17414 non-null  float64\n",
      " 4   hum           17414 non-null  float64\n",
      " 5   wind_speed    17414 non-null  float64\n",
      " 6   weather_code  17414 non-null  float64\n",
      " 7   is_holiday    17414 non-null  float64\n",
      " 8   is_weekend    17414 non-null  float64\n",
      " 9   season        17414 non-null  float64\n",
      "dtypes: float64(8), int64(1), object(1)\n",
      "memory usage: 1.3+ MB\n"
     ]
    }
   ],
   "source": [
    "df.info()"
   ],
   "metadata": {
    "collapsed": false,
    "ExecuteTime": {
     "end_time": "2023-11-13T20:49:50.907630500Z",
     "start_time": "2023-11-13T20:49:50.891338400Z"
    }
   },
   "id": "edcb674fcc49dcaa"
  },
  {
   "cell_type": "code",
   "execution_count": 37,
   "outputs": [
    {
     "data": {
      "text/plain": "                  time  count  temp_real_C  temp_feels_like_C  \\\n0  2015-01-04 00:00:00    182          3.0                2.0   \n1  2015-01-04 01:00:00    138          3.0                2.5   \n2  2015-01-04 02:00:00    134          2.5                2.5   \n3  2015-01-04 03:00:00     72          2.0                2.0   \n4  2015-01-04 04:00:00     47          2.0                0.0   \n\n   humidity_percent  wind_speed_kph  weather  is_holiday  is_weekend  season  \n0              93.0             6.0      3.0         0.0         1.0     3.0  \n1              93.0             5.0      1.0         0.0         1.0     3.0  \n2              96.5             0.0      1.0         0.0         1.0     3.0  \n3             100.0             0.0      1.0         0.0         1.0     3.0  \n4              93.0             6.5      1.0         0.0         1.0     3.0  ",
      "text/html": "<div>\n<style scoped>\n    .dataframe tbody tr th:only-of-type {\n        vertical-align: middle;\n    }\n\n    .dataframe tbody tr th {\n        vertical-align: top;\n    }\n\n    .dataframe thead th {\n        text-align: right;\n    }\n</style>\n<table border=\"1\" class=\"dataframe\">\n  <thead>\n    <tr style=\"text-align: right;\">\n      <th></th>\n      <th>time</th>\n      <th>count</th>\n      <th>temp_real_C</th>\n      <th>temp_feels_like_C</th>\n      <th>humidity_percent</th>\n      <th>wind_speed_kph</th>\n      <th>weather</th>\n      <th>is_holiday</th>\n      <th>is_weekend</th>\n      <th>season</th>\n    </tr>\n  </thead>\n  <tbody>\n    <tr>\n      <th>0</th>\n      <td>2015-01-04 00:00:00</td>\n      <td>182</td>\n      <td>3.0</td>\n      <td>2.0</td>\n      <td>93.0</td>\n      <td>6.0</td>\n      <td>3.0</td>\n      <td>0.0</td>\n      <td>1.0</td>\n      <td>3.0</td>\n    </tr>\n    <tr>\n      <th>1</th>\n      <td>2015-01-04 01:00:00</td>\n      <td>138</td>\n      <td>3.0</td>\n      <td>2.5</td>\n      <td>93.0</td>\n      <td>5.0</td>\n      <td>1.0</td>\n      <td>0.0</td>\n      <td>1.0</td>\n      <td>3.0</td>\n    </tr>\n    <tr>\n      <th>2</th>\n      <td>2015-01-04 02:00:00</td>\n      <td>134</td>\n      <td>2.5</td>\n      <td>2.5</td>\n      <td>96.5</td>\n      <td>0.0</td>\n      <td>1.0</td>\n      <td>0.0</td>\n      <td>1.0</td>\n      <td>3.0</td>\n    </tr>\n    <tr>\n      <th>3</th>\n      <td>2015-01-04 03:00:00</td>\n      <td>72</td>\n      <td>2.0</td>\n      <td>2.0</td>\n      <td>100.0</td>\n      <td>0.0</td>\n      <td>1.0</td>\n      <td>0.0</td>\n      <td>1.0</td>\n      <td>3.0</td>\n    </tr>\n    <tr>\n      <th>4</th>\n      <td>2015-01-04 04:00:00</td>\n      <td>47</td>\n      <td>2.0</td>\n      <td>0.0</td>\n      <td>93.0</td>\n      <td>6.5</td>\n      <td>1.0</td>\n      <td>0.0</td>\n      <td>1.0</td>\n      <td>3.0</td>\n    </tr>\n  </tbody>\n</table>\n</div>"
     },
     "execution_count": 37,
     "metadata": {},
     "output_type": "execute_result"
    }
   ],
   "source": [
    "# specifying the column names to be renamed and used\n",
    "new_cols_dict ={\n",
    "    'timestamp':'time',\n",
    "    'cnt':'count',\n",
    "    't1':'temp_real_C',\n",
    "    't2':'temp_feels_like_C',\n",
    "    'hum':'humidity_percent',\n",
    "    'wind_speed':'wind_speed_kph',\n",
    "    'weather_code':'weather',\n",
    "    'is_holiday':'is_holiday',\n",
    "    'is_weekend':'is_weekend',\n",
    "    'season':'season'\n",
    "}\n",
    "df.rename(new_cols_dict, axis=1, inplace=True)\n",
    "df.head()"
   ],
   "metadata": {
    "collapsed": false,
    "ExecuteTime": {
     "end_time": "2023-11-13T20:49:52.325129200Z",
     "start_time": "2023-11-13T20:49:52.284891300Z"
    }
   },
   "id": "acb8cd6d90e088f5"
  },
  {
   "cell_type": "code",
   "execution_count": 38,
   "outputs": [],
   "source": [
    "# turn percentage to decimal values\n",
    "df.humidity_percent = df.humidity_percent / 100"
   ],
   "metadata": {
    "collapsed": false,
    "ExecuteTime": {
     "end_time": "2023-11-13T20:49:57.087406300Z",
     "start_time": "2023-11-13T20:49:57.073044100Z"
    }
   },
   "id": "5efcd09a664c1a46"
  },
  {
   "cell_type": "code",
   "execution_count": 39,
   "outputs": [
    {
     "data": {
      "text/plain": "array([3., 0., 1., 2.])"
     },
     "execution_count": 39,
     "metadata": {},
     "output_type": "execute_result"
    }
   ],
   "source": [
    "# get the unique values in the season column\n",
    "df.season.unique()"
   ],
   "metadata": {
    "collapsed": false,
    "ExecuteTime": {
     "end_time": "2023-11-13T20:49:58.437342900Z",
     "start_time": "2023-11-13T20:49:58.423358500Z"
    }
   },
   "id": "ef20d2372b0b217f"
  },
  {
   "cell_type": "code",
   "execution_count": 40,
   "outputs": [],
   "source": [
    "# creating a season dictionary to map the integers 0-3 to the actual written values\n",
    "season_dict = {\n",
    "    '0.0':'Spring',\n",
    "    '1.0':'Summer',\n",
    "    '2.0':'Autumn',\n",
    "    '3.0':'Winter'\n",
    "}\n",
    "\n",
    "df.season = df.season.astype('str')\n",
    "df.season = df.season.map(season_dict)"
   ],
   "metadata": {
    "collapsed": false,
    "ExecuteTime": {
     "end_time": "2023-11-13T20:49:59.703375200Z",
     "start_time": "2023-11-13T20:49:59.695364Z"
    }
   },
   "id": "bb7d72c69c0004ef"
  },
  {
   "cell_type": "code",
   "execution_count": 41,
   "outputs": [
    {
     "data": {
      "text/plain": "array([ 3.,  1.,  4.,  7.,  2., 26., 10.])"
     },
     "execution_count": 41,
     "metadata": {},
     "output_type": "execute_result"
    }
   ],
   "source": [
    "# get the unique values in the weather column\n",
    "df.weather.unique()"
   ],
   "metadata": {
    "collapsed": false,
    "ExecuteTime": {
     "end_time": "2023-11-13T20:50:02.639945300Z",
     "start_time": "2023-11-13T20:50:02.619648400Z"
    }
   },
   "id": "a61846916e8cc2d0"
  },
  {
   "cell_type": "code",
   "execution_count": 42,
   "outputs": [],
   "source": [
    "# creating a weather dictionary to map the integers to the actual written values\n",
    "weather_dict = {\n",
    "    '1.0':'Clear',\n",
    "    '2.0':'Scattered clouds',\n",
    "    '3.0':'Broken clouds',\n",
    "    '4.0':'Cloudy',\n",
    "    '7.0':'Rain',\n",
    "    '10.0':'Rain with thunderstorm',\n",
    "    '26.0':'Snowfall'\n",
    "}\n",
    "\n",
    "df.weather = df.weather.astype('str')\n",
    "df.weather = df.weather.map(weather_dict)"
   ],
   "metadata": {
    "collapsed": false,
    "ExecuteTime": {
     "end_time": "2023-11-13T20:50:03.576920900Z",
     "start_time": "2023-11-13T20:50:03.554278500Z"
    }
   },
   "id": "21d896599c6ba307"
  },
  {
   "cell_type": "code",
   "execution_count": 43,
   "outputs": [
    {
     "data": {
      "text/plain": "                  time  count  temp_real_C  temp_feels_like_C  \\\n0  2015-01-04 00:00:00    182          3.0                2.0   \n1  2015-01-04 01:00:00    138          3.0                2.5   \n2  2015-01-04 02:00:00    134          2.5                2.5   \n3  2015-01-04 03:00:00     72          2.0                2.0   \n4  2015-01-04 04:00:00     47          2.0                0.0   \n\n   humidity_percent  wind_speed_kph        weather  is_holiday  is_weekend  \\\n0             0.930             6.0  Broken clouds         0.0         1.0   \n1             0.930             5.0          Clear         0.0         1.0   \n2             0.965             0.0          Clear         0.0         1.0   \n3             1.000             0.0          Clear         0.0         1.0   \n4             0.930             6.5          Clear         0.0         1.0   \n\n   season  \n0  Winter  \n1  Winter  \n2  Winter  \n3  Winter  \n4  Winter  ",
      "text/html": "<div>\n<style scoped>\n    .dataframe tbody tr th:only-of-type {\n        vertical-align: middle;\n    }\n\n    .dataframe tbody tr th {\n        vertical-align: top;\n    }\n\n    .dataframe thead th {\n        text-align: right;\n    }\n</style>\n<table border=\"1\" class=\"dataframe\">\n  <thead>\n    <tr style=\"text-align: right;\">\n      <th></th>\n      <th>time</th>\n      <th>count</th>\n      <th>temp_real_C</th>\n      <th>temp_feels_like_C</th>\n      <th>humidity_percent</th>\n      <th>wind_speed_kph</th>\n      <th>weather</th>\n      <th>is_holiday</th>\n      <th>is_weekend</th>\n      <th>season</th>\n    </tr>\n  </thead>\n  <tbody>\n    <tr>\n      <th>0</th>\n      <td>2015-01-04 00:00:00</td>\n      <td>182</td>\n      <td>3.0</td>\n      <td>2.0</td>\n      <td>0.930</td>\n      <td>6.0</td>\n      <td>Broken clouds</td>\n      <td>0.0</td>\n      <td>1.0</td>\n      <td>Winter</td>\n    </tr>\n    <tr>\n      <th>1</th>\n      <td>2015-01-04 01:00:00</td>\n      <td>138</td>\n      <td>3.0</td>\n      <td>2.5</td>\n      <td>0.930</td>\n      <td>5.0</td>\n      <td>Clear</td>\n      <td>0.0</td>\n      <td>1.0</td>\n      <td>Winter</td>\n    </tr>\n    <tr>\n      <th>2</th>\n      <td>2015-01-04 02:00:00</td>\n      <td>134</td>\n      <td>2.5</td>\n      <td>2.5</td>\n      <td>0.965</td>\n      <td>0.0</td>\n      <td>Clear</td>\n      <td>0.0</td>\n      <td>1.0</td>\n      <td>Winter</td>\n    </tr>\n    <tr>\n      <th>3</th>\n      <td>2015-01-04 03:00:00</td>\n      <td>72</td>\n      <td>2.0</td>\n      <td>2.0</td>\n      <td>1.000</td>\n      <td>0.0</td>\n      <td>Clear</td>\n      <td>0.0</td>\n      <td>1.0</td>\n      <td>Winter</td>\n    </tr>\n    <tr>\n      <th>4</th>\n      <td>2015-01-04 04:00:00</td>\n      <td>47</td>\n      <td>2.0</td>\n      <td>0.0</td>\n      <td>0.930</td>\n      <td>6.5</td>\n      <td>Clear</td>\n      <td>0.0</td>\n      <td>1.0</td>\n      <td>Winter</td>\n    </tr>\n  </tbody>\n</table>\n</div>"
     },
     "execution_count": 43,
     "metadata": {},
     "output_type": "execute_result"
    }
   ],
   "source": [
    "df.head()"
   ],
   "metadata": {
    "collapsed": false,
    "ExecuteTime": {
     "end_time": "2023-11-13T20:50:04.343775400Z",
     "start_time": "2023-11-13T20:50:04.329069300Z"
    }
   },
   "id": "55d07485e1155453"
  },
  {
   "cell_type": "code",
   "execution_count": 44,
   "outputs": [],
   "source": [
    "df.to_csv('london-bikes-final.csv')"
   ],
   "metadata": {
    "collapsed": false,
    "ExecuteTime": {
     "end_time": "2023-11-13T20:50:59.549498Z",
     "start_time": "2023-11-13T20:50:59.420806800Z"
    }
   },
   "id": "9db74a05403c5bfc"
  }
 ],
 "metadata": {
  "kernelspec": {
   "display_name": "Python 3",
   "language": "python",
   "name": "python3"
  },
  "language_info": {
   "codemirror_mode": {
    "name": "ipython",
    "version": 2
   },
   "file_extension": ".py",
   "mimetype": "text/x-python",
   "name": "python",
   "nbconvert_exporter": "python",
   "pygments_lexer": "ipython2",
   "version": "2.7.6"
  }
 },
 "nbformat": 4,
 "nbformat_minor": 5
}
